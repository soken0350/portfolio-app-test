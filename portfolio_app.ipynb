{
 "cells": [
  {
   "cell_type": "code",
   "execution_count": null,
   "id": "a4cf840e",
   "metadata": {},
   "outputs": [],
   "source": [
    "import pandas as pd\n",
    "import plotly.express as px\n",
    "import ipywidgets as widgets\n",
    "from IPython.display import display, clear_output\n",
    "\n",
    "df = pd.DataFrame({\n",
    "    \"セクター\": [\"情報技術\", \"金融\", \"エネルギー\"],\n",
    "    \"リターン\": [0.12, 0.05, -0.02]\n",
    "})\n",
    "\n",
    "dropdown = widgets.Dropdown(options=df[\"セクター\"], description=\"セクター\")\n",
    "out = widgets.Output()\n",
    "\n",
    "def update(change):\n",
    "    with out:\n",
    "        clear_output()\n",
    "        sel = dropdown.value\n",
    "        fig = px.bar(df[df[\"セクター\"] == sel], x=\"セクター\", y=\"リターン\", title=sel)\n",
    "        display(fig)\n",
    "\n",
    "dropdown.observe(update, names=\"value\")\n",
    "update(None)\n",
    "\n",
    "display(dropdown, out)\n"
   ]
  }
 ],
 "metadata": {
  "language_info": {
   "name": "python"
  }
 },
 "nbformat": 4,
 "nbformat_minor": 5
}
